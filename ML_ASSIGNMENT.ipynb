{
  "nbformat": 4,
  "nbformat_minor": 0,
  "metadata": {
    "colab": {
      "name": "ML ASSIGMENT",
      "provenance": [],
      "include_colab_link": true
    },
    "kernelspec": {
      "name": "python3",
      "display_name": "Python 3"
    },
    "language_info": {
      "name": "python"
    }
  },
  "cells": [
    {
      "cell_type": "markdown",
      "metadata": {
        "id": "view-in-github",
        "colab_type": "text"
      },
      "source": [
        "<a href=\"https://colab.research.google.com/github/jyothisriprabhakargit/machine_learning_and_data_science/blob/main/ML_ASSIGNMENT.ipynb\" target=\"_parent\"><img src=\"https://colab.research.google.com/assets/colab-badge.svg\" alt=\"Open In Colab\"/></a>"
      ]
    },
    {
      "cell_type": "markdown",
      "metadata": {
        "id": "UNPcrdeEBDIB"
      },
      "source": [
        "**Numpy assignment**"
      ]
    },
    {
      "cell_type": "markdown",
      "metadata": {
        "id": "crKv4HtBBHgJ"
      },
      "source": [
        "*1.Import numpy*"
      ]
    },
    {
      "cell_type": "code",
      "metadata": {
        "id": "vrtfHqkQBVqX"
      },
      "source": [
        "import numpy as np"
      ],
      "execution_count": 1,
      "outputs": []
    },
    {
      "cell_type": "markdown",
      "metadata": {
        "id": "Rmw_4N9oBeNn"
      },
      "source": [
        "*2.Create an array of 10 zeros*"
      ]
    },
    {
      "cell_type": "code",
      "metadata": {
        "colab": {
          "base_uri": "https://localhost:8080/"
        },
        "id": "tpT0Qm6_Bns-",
        "outputId": "17a5480b-9748-442c-dd28-98ac91466060"
      },
      "source": [
        "np.zeros ((10))"
      ],
      "execution_count": 2,
      "outputs": [
        {
          "output_type": "execute_result",
          "data": {
            "text/plain": [
              "array([0., 0., 0., 0., 0., 0., 0., 0., 0., 0.])"
            ]
          },
          "metadata": {},
          "execution_count": 2
        }
      ]
    },
    {
      "cell_type": "markdown",
      "metadata": {
        "id": "a13KrhkIDnjI"
      },
      "source": [
        "*3.Create an array of 10 ones*"
      ]
    },
    {
      "cell_type": "code",
      "metadata": {
        "colab": {
          "base_uri": "https://localhost:8080/"
        },
        "id": "vl5EMZJlB358",
        "outputId": "5bc3cd76-c98b-44d4-e29d-8c54df091d01"
      },
      "source": [
        "np.ones ((10))"
      ],
      "execution_count": 3,
      "outputs": [
        {
          "output_type": "execute_result",
          "data": {
            "text/plain": [
              "array([1., 1., 1., 1., 1., 1., 1., 1., 1., 1.])"
            ]
          },
          "metadata": {},
          "execution_count": 3
        }
      ]
    },
    {
      "cell_type": "markdown",
      "metadata": {
        "id": "e-QJ25UJD1Ju"
      },
      "source": [
        "*4.Create an array of 10 fives*"
      ]
    },
    {
      "cell_type": "code",
      "metadata": {
        "colab": {
          "base_uri": "https://localhost:8080/"
        },
        "id": "QBP0cqedB7Tk",
        "outputId": "403b6704-31b2-4fd4-dbb1-ea97feb76734"
      },
      "source": [
        "np.ones (10)*5"
      ],
      "execution_count": 4,
      "outputs": [
        {
          "output_type": "execute_result",
          "data": {
            "text/plain": [
              "array([5., 5., 5., 5., 5., 5., 5., 5., 5., 5.])"
            ]
          },
          "metadata": {},
          "execution_count": 4
        }
      ]
    },
    {
      "cell_type": "markdown",
      "metadata": {
        "id": "0a0o7OiHD9bU"
      },
      "source": [
        "*5.Create an array of integer from 11 to 50*"
      ]
    },
    {
      "cell_type": "code",
      "metadata": {
        "colab": {
          "base_uri": "https://localhost:8080/"
        },
        "id": "nC5bk4G8CgN7",
        "outputId": "f8ed99b3-f707-464a-95b5-fa27a38066c7"
      },
      "source": [
        "np.random.randint(11, 50)"
      ],
      "execution_count": 5,
      "outputs": [
        {
          "output_type": "execute_result",
          "data": {
            "text/plain": [
              "12"
            ]
          },
          "metadata": {},
          "execution_count": 5
        }
      ]
    },
    {
      "cell_type": "code",
      "metadata": {
        "colab": {
          "base_uri": "https://localhost:8080/"
        },
        "id": "YACsNMZoUfZm",
        "outputId": "a3fcc3c5-c4bd-4fe8-e444-d678f00e382c"
      },
      "source": [
        "np.arange(11, 50)"
      ],
      "execution_count": 6,
      "outputs": [
        {
          "output_type": "execute_result",
          "data": {
            "text/plain": [
              "array([11, 12, 13, 14, 15, 16, 17, 18, 19, 20, 21, 22, 23, 24, 25, 26, 27,\n",
              "       28, 29, 30, 31, 32, 33, 34, 35, 36, 37, 38, 39, 40, 41, 42, 43, 44,\n",
              "       45, 46, 47, 48, 49])"
            ]
          },
          "metadata": {},
          "execution_count": 6
        }
      ]
    },
    {
      "cell_type": "markdown",
      "metadata": {
        "id": "unmD5lSEENdk"
      },
      "source": [
        "*6.Create an array of all the even integer from 11 to 50*"
      ]
    },
    {
      "cell_type": "code",
      "metadata": {
        "colab": {
          "base_uri": "https://localhost:8080/"
        },
        "id": "idklThjJDZl9",
        "outputId": "437dfd56-c9bd-4511-f27f-0ae52df2c34b"
      },
      "source": [
        "np.arange(11,50,2)"
      ],
      "execution_count": 7,
      "outputs": [
        {
          "output_type": "execute_result",
          "data": {
            "text/plain": [
              "array([11, 13, 15, 17, 19, 21, 23, 25, 27, 29, 31, 33, 35, 37, 39, 41, 43,\n",
              "       45, 47, 49])"
            ]
          },
          "metadata": {},
          "execution_count": 7
        }
      ]
    },
    {
      "cell_type": "markdown",
      "metadata": {
        "id": "NMqC7RFxEvY0"
      },
      "source": [
        "*7.Create a 3 * 3 matrices of value from range 0 to 8*"
      ]
    },
    {
      "cell_type": "code",
      "metadata": {
        "colab": {
          "base_uri": "https://localhost:8080/"
        },
        "id": "2KeqXsNbE_lY",
        "outputId": "489399b7-2089-463c-ae36-905f80c194cc"
      },
      "source": [
        "\n",
        "np.arange (0,9). reshape (3, 3)"
      ],
      "execution_count": 8,
      "outputs": [
        {
          "output_type": "execute_result",
          "data": {
            "text/plain": [
              "array([[0, 1, 2],\n",
              "       [3, 4, 5],\n",
              "       [6, 7, 8]])"
            ]
          },
          "metadata": {},
          "execution_count": 8
        }
      ]
    },
    {
      "cell_type": "markdown",
      "metadata": {
        "id": "uVk0u-sHF7p8"
      },
      "source": [
        "*8.Using numpy to generate a number randomly between 0 and 1*"
      ]
    },
    {
      "cell_type": "code",
      "metadata": {
        "colab": {
          "base_uri": "https://localhost:8080/"
        },
        "id": "gu1jFC1uGL2r",
        "outputId": "26e07c12-8fe4-4650-e405-67487d1a62d3"
      },
      "source": [
        "np.random.normal(0, 1,1)"
      ],
      "execution_count": 9,
      "outputs": [
        {
          "output_type": "execute_result",
          "data": {
            "text/plain": [
              "array([0.19092551])"
            ]
          },
          "metadata": {},
          "execution_count": 9
        }
      ]
    },
    {
      "cell_type": "code",
      "metadata": {
        "colab": {
          "base_uri": "https://localhost:8080/"
        },
        "id": "I9FTpMsNVj15",
        "outputId": "69754291-225b-4947-e743-e36dc3476fcb"
      },
      "source": [
        "np.random.normal()"
      ],
      "execution_count": 10,
      "outputs": [
        {
          "output_type": "execute_result",
          "data": {
            "text/plain": [
              "1.7051383793274568"
            ]
          },
          "metadata": {},
          "execution_count": 10
        }
      ]
    },
    {
      "cell_type": "markdown",
      "metadata": {
        "id": "kTgCaDplGi_X"
      },
      "source": [
        "**Create the following matrices**"
      ]
    },
    {
      "cell_type": "markdown",
      "metadata": {
        "id": "mOZhEXhhGoRq"
      },
      "source": [
        "*20 linrarly spaced point between 0 and 2*"
      ]
    },
    {
      "cell_type": "code",
      "metadata": {
        "colab": {
          "base_uri": "https://localhost:8080/"
        },
        "id": "KAVWyqyIGz4v",
        "outputId": "83080358-8322-459b-a59b-b35cfc0693f2"
      },
      "source": [
        "np.linspace(0, 2,20)"
      ],
      "execution_count": 11,
      "outputs": [
        {
          "output_type": "execute_result",
          "data": {
            "text/plain": [
              "array([0.        , 0.10526316, 0.21052632, 0.31578947, 0.42105263,\n",
              "       0.52631579, 0.63157895, 0.73684211, 0.84210526, 0.94736842,\n",
              "       1.05263158, 1.15789474, 1.26315789, 1.36842105, 1.47368421,\n",
              "       1.57894737, 1.68421053, 1.78947368, 1.89473684, 2.        ])"
            ]
          },
          "metadata": {},
          "execution_count": 11
        }
      ]
    },
    {
      "cell_type": "markdown",
      "metadata": {
        "id": "MMrgyFvoHOuM"
      },
      "source": [
        "**Numpy indexing and selection**"
      ]
    },
    {
      "cell_type": "code",
      "metadata": {
        "colab": {
          "base_uri": "https://localhost:8080/"
        },
        "id": "PANFvehmHY_x",
        "outputId": "95251542-7155-4e9f-8ad3-3de73a775f21"
      },
      "source": [
        "mat=np.arange(1, 26).reshape(5, 5) \n",
        "mat"
      ],
      "execution_count": 12,
      "outputs": [
        {
          "output_type": "execute_result",
          "data": {
            "text/plain": [
              "array([[ 1,  2,  3,  4,  5],\n",
              "       [ 6,  7,  8,  9, 10],\n",
              "       [11, 12, 13, 14, 15],\n",
              "       [16, 17, 18, 19, 20],\n",
              "       [21, 22, 23, 24, 25]])"
            ]
          },
          "metadata": {},
          "execution_count": 12
        }
      ]
    },
    {
      "cell_type": "markdown",
      "metadata": {
        "id": "UdCt1V5ZHsgG"
      },
      "source": [
        "*1.Only first value of matrices mat*"
      ]
    },
    {
      "cell_type": "code",
      "metadata": {
        "colab": {
          "base_uri": "https://localhost:8080/"
        },
        "id": "mRANdoilIZnZ",
        "outputId": "97aaa605-50a2-4b5e-b982-1d9dc5f30db6"
      },
      "source": [
        "mat. item(0)"
      ],
      "execution_count": 13,
      "outputs": [
        {
          "output_type": "execute_result",
          "data": {
            "text/plain": [
              "1"
            ]
          },
          "metadata": {},
          "execution_count": 13
        }
      ]
    },
    {
      "cell_type": "markdown",
      "metadata": {
        "id": "y20cXo8VIT3z"
      },
      "source": [
        "*2.Middle value of matrices mat*"
      ]
    },
    {
      "cell_type": "code",
      "metadata": {
        "colab": {
          "base_uri": "https://localhost:8080/"
        },
        "id": "bejIANieWNkJ",
        "outputId": "7d311d23-8a34-4574-f8dd-1003d9443060"
      },
      "source": [
        "mat[2][2]"
      ],
      "execution_count": 14,
      "outputs": [
        {
          "output_type": "execute_result",
          "data": {
            "text/plain": [
              "13"
            ]
          },
          "metadata": {},
          "execution_count": 14
        }
      ]
    },
    {
      "cell_type": "markdown",
      "metadata": {
        "id": "tTs6JSF-IVXL"
      },
      "source": [
        "*3.First two rows and last one column value of matrices mat*"
      ]
    },
    {
      "cell_type": "code",
      "metadata": {
        "colab": {
          "base_uri": "https://localhost:8080/"
        },
        "id": "0Ju6XQB8Ia0g",
        "outputId": "c95588b7-7700-4028-9dac-7c4abcb558c0"
      },
      "source": [
        "Y=mat[0:1]\n",
        "X=mat[:,-1]\n",
        "print(Y)\n",
        "\n",
        "print(X)"
      ],
      "execution_count": 15,
      "outputs": [
        {
          "output_type": "stream",
          "name": "stdout",
          "text": [
            "[[1 2 3 4 5]]\n",
            "[ 5 10 15 20 25]\n"
          ]
        }
      ]
    },
    {
      "cell_type": "code",
      "metadata": {
        "colab": {
          "base_uri": "https://localhost:8080/"
        },
        "id": "v8CJ2izsWhZ9",
        "outputId": "5c600841-e1e2-4f3b-e51f-133b3e378215"
      },
      "source": [
        "mat[0:2,4]"
      ],
      "execution_count": 16,
      "outputs": [
        {
          "output_type": "execute_result",
          "data": {
            "text/plain": [
              "array([ 5, 10])"
            ]
          },
          "metadata": {},
          "execution_count": 16
        }
      ]
    },
    {
      "cell_type": "markdown",
      "metadata": {
        "id": "omDVeXCqIXhu"
      },
      "source": [
        "*4.Last row and all column values of matrices mat*"
      ]
    },
    {
      "cell_type": "code",
      "metadata": {
        "colab": {
          "base_uri": "https://localhost:8080/"
        },
        "id": "XXuQl00hIbNN",
        "outputId": "d1eb16ff-399a-4fa8-da3f-a9b289cfc6d0"
      },
      "source": [
        "Y=mat[4:5]\n",
        "print(Y)"
      ],
      "execution_count": 17,
      "outputs": [
        {
          "output_type": "stream",
          "name": "stdout",
          "text": [
            "[[21 22 23 24 25]]\n"
          ]
        }
      ]
    },
    {
      "cell_type": "code",
      "metadata": {
        "colab": {
          "base_uri": "https://localhost:8080/"
        },
        "id": "ez3wWqaGWr2i",
        "outputId": "2b8ab085-2258-43cd-acfd-ceaae09d7a79"
      },
      "source": [
        "mat[4:, :]"
      ],
      "execution_count": 18,
      "outputs": [
        {
          "output_type": "execute_result",
          "data": {
            "text/plain": [
              "array([[21, 22, 23, 24, 25]])"
            ]
          },
          "metadata": {},
          "execution_count": 18
        }
      ]
    }
  ]
}